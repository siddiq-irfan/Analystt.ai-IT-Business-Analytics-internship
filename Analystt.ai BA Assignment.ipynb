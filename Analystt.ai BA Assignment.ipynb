{
 "cells": [
  {
   "cell_type": "markdown",
   "id": "ed04f345",
   "metadata": {},
   "source": [
    "# Overcoming Captchas While Web Scraping:"
   ]
  },
  {
   "cell_type": "code",
   "execution_count": 2,
   "id": "58adf9d8",
   "metadata": {},
   "outputs": [
    {
     "name": "stdout",
     "output_type": "stream",
     "text": [
      "Captcha request failed.\n"
     ]
    }
   ],
   "source": [
    "import requests\n",
    "\n",
    "# Define the 2Captcha API endpoint and your API key\n",
    "api_url = 'http://2captcha.com/in.php'\n",
    "api_key = 'your_api_key'\n",
    "\n",
    "# Specify the website URL with the captcha\n",
    "url_with_captcha = 'https://example.com/captcha-page'\n",
    "\n",
    "# Request captcha solving\n",
    "response = requests.post(api_url, data={\n",
    "    'key': api_key,\n",
    "    'method': 'userrecaptcha',\n",
    "    'googlekey': 'your_captcha_site_key',\n",
    "    'pageurl': url_with_captcha,\n",
    "    'json': 1\n",
    "})\n",
    "\n",
    "# Parse the response\n",
    "request_result = response.json()\n",
    "if request_result['status'] == 1:\n",
    "    captcha_id = request_result['request']\n",
    "    print(f'Captcha requested. ID: {captcha_id}')\n",
    "\n",
    "    # Poll for captcha solution\n",
    "    while True:\n",
    "        solution_response = requests.get(f'http://2captcha.com/res.php?key={api_key}&action=get&id={captcha_id}&json=1')\n",
    "        solution_result = solution_response.json()\n",
    "\n",
    "        if solution_result['status'] == 1:\n",
    "            captcha_solution = solution_result['request']\n",
    "            print(f'Captcha solved: {captcha_solution}')\n",
    "            break\n",
    "else:\n",
    "    print('Captcha request failed.')\n"
   ]
  },
  {
   "cell_type": "markdown",
   "id": "72841b43",
   "metadata": {},
   "source": [
    "# Estimating LinkedIn Profile Income:"
   ]
  },
  {
   "cell_type": "code",
   "execution_count": 3,
   "id": "d53bbe2c",
   "metadata": {},
   "outputs": [],
   "source": [
    "import requests\n",
    "\n",
    "company_names = ['Company1', 'Company2', 'Company3']  # Add your list of company names\n",
    "\n",
    "for company_name in company_names:\n",
    "    # Form a search query URL\n",
    "    search_url = f'https://www.linkedin.com/search/results/companies/?keywords={company_name}'\n",
    "\n",
    "    # Send a GET request to LinkedIn's search page\n",
    "    response = requests.get(search_url)\n",
    "\n",
    "    # Parse the HTML response and extract company links\n",
    "    # You'll need to use a library like BeautifulSoup to parse HTML and extract links\n"
   ]
  },
  {
   "cell_type": "markdown",
   "id": "37c3e6d2",
   "metadata": {},
   "source": [
    "# Identifying Python-Based Tech Stack in Companies"
   ]
  },
  {
   "cell_type": "code",
   "execution_count": 4,
   "id": "5fca7808",
   "metadata": {},
   "outputs": [],
   "source": [
    "import requests\n",
    "\n",
    "search_query = 'Python developer'\n",
    "\n",
    "response = requests.get(f'https://www.indeed.com/jobs?q={search_query}')\n",
    "# Parse the HTML response and extract job listings\n",
    "# Analyze job descriptions and company information to identify Python usage\n",
    "\n",
    "# Repeat for multiple job boards and websites to compile a list of Python-using companies.\n"
   ]
  },
  {
   "cell_type": "markdown",
   "id": "250c1a92",
   "metadata": {},
   "source": [
    "# LinkedIn Message API:\n",
    "LinkedIn's messaging API is not publicly available for sending messages outside the LinkedIn platform. LinkedIn places restrictions on automated messaging to prevent misuse."
   ]
  },
  {
   "cell_type": "code",
   "execution_count": null,
   "id": "8f075ec5",
   "metadata": {},
   "outputs": [],
   "source": []
  }
 ],
 "metadata": {
  "kernelspec": {
   "display_name": "Python 3 (ipykernel)",
   "language": "python",
   "name": "python3"
  },
  "language_info": {
   "codemirror_mode": {
    "name": "ipython",
    "version": 3
   },
   "file_extension": ".py",
   "mimetype": "text/x-python",
   "name": "python",
   "nbconvert_exporter": "python",
   "pygments_lexer": "ipython3",
   "version": "3.9.12"
  }
 },
 "nbformat": 4,
 "nbformat_minor": 5
}
